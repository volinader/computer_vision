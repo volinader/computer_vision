{
 "cells": [
  {
   "cell_type": "code",
   "execution_count": 17,
   "metadata": {},
   "outputs": [],
   "source": [
    "import requests\n",
    "import requests\n",
    "import base64\n",
    "from matplotlib import pyplot as plt"
   ]
  },
  {
   "cell_type": "markdown",
   "metadata": {},
   "source": [
    "Web site which i will use to export text from passport through API requests<br>https://convertio.co/"
   ]
  },
  {
   "cell_type": "code",
   "execution_count": 9,
   "metadata": {},
   "outputs": [
    {
     "name": "stdout",
     "output_type": "stream",
     "text": [
      "{'code': 200, 'status': 'ok', 'data': {'id': 'fa4678a5db0914e9f90835bf8403d479'}}\n"
     ]
    }
   ],
   "source": [
    "#POST REQUEST\n",
    "BASE_URL = 'http://api.convertio.co/convert'\n",
    "\n",
    "new_product = {\"apikey\": \"818e7e74ab1447fdd4314dd827e3fbe1\", \n",
    "\"input\": \"upload\", \n",
    "\"file\":\"0.jpeg\",\n",
    "\"outputformat\":\"TXT\", \n",
    "\"options\": {\"ocr_enabled\": \"true\", \"ocr_settings\": {\"langs\": [\"rus\"]}}}\n",
    "response = requests.post(f\"{BASE_URL}\", json=new_product)\n",
    "id = response.json()['data']['id']\n",
    "print(response.json())"
   ]
  },
  {
   "cell_type": "code",
   "execution_count": 12,
   "metadata": {},
   "outputs": [
    {
     "name": "stdout",
     "output_type": "stream",
     "text": [
      "{'code': 200, 'status': 'ok', 'data': {'id': 'fa4678a5db0914e9f90835bf8403d479', 'file': '0.jpeg', 'size': 69581}}\n"
     ]
    }
   ],
   "source": [
    "#UPLOAD PICTURE\n",
    "with open('DataForOCR/0.jpeg', 'rb') as img_1:\n",
    "\n",
    "    BASE_URL = f'http://api.convertio.co/convert/{id}/0.jpeg'\n",
    "    response = requests.put(f\"{BASE_URL}\", data=img_1)\n",
    "    print(response.json())"
   ]
  },
  {
   "cell_type": "code",
   "execution_count": 14,
   "metadata": {},
   "outputs": [
    {
     "name": "stdout",
     "output_type": "stream",
     "text": [
      "{'code': 200, 'status': 'ok', 'data': {'id': 'fa4678a5db0914e9f90835bf8403d479', 'step': 'finish', 'step_percent': 100, 'minutes': '0', 'output': {'url': 'https://s188.convertio.me/p/CQybt4SgEFRR3fHvVwSo1Q/818e7e74ab1447fdd4314dd827e3fbe1/0.ocr.txt', 'size': '388'}}}\n"
     ]
    }
   ],
   "source": [
    "#SATUS CHECKER\n",
    "BASE_URL = f'http://api.convertio.co/convert/{id}/status'\n",
    "response = requests.get(f\"{BASE_URL}\")\n",
    "print(response.json())"
   ]
  },
  {
   "cell_type": "code",
   "execution_count": 15,
   "metadata": {},
   "outputs": [
    {
     "name": "stdout",
     "output_type": "stream",
     "text": [
      "ПАСПОРТНО-ВИЗОВЫМ ОТДЕЛЕНИЕМ ОВД ПРЕСНЕНСКОГО РАЙОНА УВД ЦАО ГОРОДА МОСКВЫ\n",
      "л....ми*.О9.11.2016 к*л...чч«.«-и»\t772-112\n",
      "ТРАМП\n",
      "«««кив\t\n",
      "Мая\tДОНАЛЬД\n",
      "\tДЖОН\n",
      "-V.. МУЖ. рва к/«И\tХ-. 14.06.1946 ГОР. КУИНС\n",
      "ШТАТ НЬЮ-ЙОРК США\n",
      ">\n",
      "45\t07\t123456\t[\t45\t07\t123456\n"
     ]
    }
   ],
   "source": [
    "#RESULT CHECKER + ENCODING BASE64\n",
    "BASE_URL = f'http://api.convertio.co/convert/{id}/dl'\n",
    "response = requests.get(f\"{BASE_URL}\")\n",
    "encoded = response.json()['data']['content']\n",
    "base64_decoded = base64.b64decode(encoded)\n",
    "print(base64_decoded.decode())"
   ]
  },
  {
   "cell_type": "markdown",
   "metadata": {},
   "source": [
    "![alternative text](DataForOCR/0.jpeg)\n"
   ]
  }
 ],
 "metadata": {
  "kernelspec": {
   "display_name": "Python 3.9.12 ('base')",
   "language": "python",
   "name": "python3"
  },
  "language_info": {
   "codemirror_mode": {
    "name": "ipython",
    "version": 3
   },
   "file_extension": ".py",
   "mimetype": "text/x-python",
   "name": "python",
   "nbconvert_exporter": "python",
   "pygments_lexer": "ipython3",
   "version": "3.9.12"
  },
  "orig_nbformat": 4,
  "vscode": {
   "interpreter": {
    "hash": "a4af91d33ec6268fa186d90437f8cb3cd71e802bf998707b61c648dfaadd642d"
   }
  }
 },
 "nbformat": 4,
 "nbformat_minor": 2
}

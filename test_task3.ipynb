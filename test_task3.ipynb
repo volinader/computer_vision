{
 "cells": [
  {
   "cell_type": "code",
   "execution_count": 23,
   "metadata": {},
   "outputs": [],
   "source": [
    "from skimage.color import rgb2gray\n",
    "\n",
    "import matplotlib.pyplot as plt\n",
    "import numpy as np\n",
    "import pandas as pd\n",
    "import tensorflow as tf\n",
    "import skimage\n",
    "import os\n",
    "from pathlib import Path\n",
    "\n"
   ]
  },
  {
   "cell_type": "code",
   "execution_count": 19,
   "metadata": {},
   "outputs": [],
   "source": [
    "di = {chr(i + 1040): i + 1 for i in range(32)} \n",
    "di.update({\" \": 0})\n",
    "inverted_d = {value: key for key, value in di.items()}\n",
    "len_full_name = 34  # max full name length\n",
    "\n",
    "def  string_to_num(character_string, flag=True):\n",
    "    character_list = list(character_string)\n",
    "    character_numbers = [di[item] for item in character_list]\n",
    "\n",
    "    if flag:\n",
    "        while len(character_numbers) < len_full_name:\n",
    "            character_numbers.append(0)\n",
    "\n",
    "    return character_numbers\n",
    "\n",
    "def num_to_string(character_numbers):\n",
    "    return [inverted_d.get(item, \"_\") for item in character_numbers]"
   ]
  },
  {
   "cell_type": "code",
   "execution_count": 20,
   "metadata": {},
   "outputs": [],
   "source": [
    "def transform_features(features,\n",
    "                       ind_slice=None, flag=None, reshape_flag=True,\n",
    "                       gray_flag=True, normal_flag=False):\n",
    "    features = features.as_numpy_iterator()\n",
    "    if gray_flag:\n",
    "        lst_to_crop = [rgb2gray(item) for item in features]\n",
    "    else:\n",
    "        lst_to_crop = [item for item in features]\n",
    "\n",
    "    if flag == \"val\":\n",
    "        features = np.array(lst_to_crop[ind_slice:], dtype=np.float64)\n",
    "    elif flag == \"train\":\n",
    "        features = np.array(lst_to_crop[:ind_slice], dtype=np.float64)\n",
    "    else:\n",
    "        features = np.array(lst_to_crop, dtype=np.float64)\n",
    "\n",
    "    if reshape_flag:\n",
    "        n, nx, ny = features.shape\n",
    "        features = features.reshape((n, nx * ny))\n",
    "\n",
    "    if normal_flag:\n",
    "        norm = tf.keras.layers.Rescaling(scale=1.0 / 255.0)\n",
    "        features = norm(features)\n",
    "\n",
    "    return features"
   ]
  },
  {
   "cell_type": "code",
   "execution_count": 21,
   "metadata": {},
   "outputs": [],
   "source": [
    "def reverse_flat_categories(array, initial_shape):\n",
    "    res = tf.keras.layers.Reshape((initial_shape[1], initial_shape[2]))\n",
    "\n",
    "    return np.argmax(res(array), axis=2)\n",
    "\n",
    "\n",
    "def reverse_flat_continuous(array, initial_shape):\n",
    "    res = tf.keras.layers.Reshape((initial_shape[1], initial_shape[2]))\n",
    "\n",
    "    return res(array)"
   ]
  },
  {
   "cell_type": "code",
   "execution_count": 40,
   "metadata": {},
   "outputs": [
    {
     "name": "stdout",
     "output_type": "stream",
     "text": [
      "[]\n"
     ]
    }
   ],
   "source": [
    "data_dir_train = Path(\"./TrainData/\")\n",
    "data_dir_valid = Path(\"./ValidData/\")\n",
    "\n",
    "# Get list of all the images\n",
    "images_train = sorted(list(map(str, list(data_dir_train.glob(\"*.png\")))))\n",
    "images_valid = sorted(list(map(str, list(data_dir_valid.glob(\"*.png\")))))\n",
    "print(images_valid)\n",
    "#print(images)\n",
    "#labels_train = [img.split(os.path.sep)[-1].split(\".png\")[0].replace(\"_\", \" \") for img in images_train]\n",
    "labels_valid = [img.split(os.path.sep)[-1].split(\".png\")[0].replace(\"_\", \" \") for img in images_valid]\n"
   ]
  },
  {
   "cell_type": "code",
   "execution_count": 34,
   "metadata": {},
   "outputs": [
    {
     "name": "stdout",
     "output_type": "stream",
     "text": [
      "[]\n"
     ]
    }
   ],
   "source": [
    "print(labels_valid)"
   ]
  },
  {
   "cell_type": "code",
   "execution_count": null,
   "metadata": {},
   "outputs": [],
   "source": [
    "with open(\"labels.txt\") as f:\n",
    "    dt = f.read().split(\"\\n\")\n",
    "    labels = np.array(list(map(char_to_num, dt)), dtype=np.int64)\n",
    "\n",
    "with open(\"extra_labels.txt\") as f:\n",
    "    extra_dt = f.read().split(\"\\n\")\n",
    "    extra_labels = np.array(list(map(char_to_num, extra_dt)), dtype=np.int64)"
   ]
  }
 ],
 "metadata": {
  "kernelspec": {
   "display_name": "Python 3.9.12 ('base')",
   "language": "python",
   "name": "python3"
  },
  "language_info": {
   "codemirror_mode": {
    "name": "ipython",
    "version": 3
   },
   "file_extension": ".py",
   "mimetype": "text/x-python",
   "name": "python",
   "nbconvert_exporter": "python",
   "pygments_lexer": "ipython3",
   "version": "3.9.12"
  },
  "orig_nbformat": 4,
  "vscode": {
   "interpreter": {
    "hash": "a4af91d33ec6268fa186d90437f8cb3cd71e802bf998707b61c648dfaadd642d"
   }
  }
 },
 "nbformat": 4,
 "nbformat_minor": 2
}

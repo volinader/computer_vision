{
 "cells": [
  {
   "cell_type": "code",
   "execution_count": 1,
   "metadata": {},
   "outputs": [
    {
     "name": "stderr",
     "output_type": "stream",
     "text": [
      "2022-12-16 20:00:00.956493: I tensorflow/core/platform/cpu_feature_guard.cc:193] This TensorFlow binary is optimized with oneAPI Deep Neural Network Library (oneDNN) to use the following CPU instructions in performance-critical operations:  AVX2 FMA\n",
      "To enable them in other operations, rebuild TensorFlow with the appropriate compiler flags.\n"
     ]
    }
   ],
   "source": [
    "from skimage.color import rgb2gray\n",
    "\n",
    "import matplotlib.pyplot as plt\n",
    "import numpy as np\n",
    "import pandas as pd\n",
    "import tensorflow as tf\n"
   ]
  },
  {
   "cell_type": "markdown",
   "metadata": {},
   "source": [
    "Transformation data features"
   ]
  },
  {
   "cell_type": "code",
   "execution_count": 65,
   "metadata": {},
   "outputs": [],
   "source": [
    "di = {chr(i + 1040): i + 1 for i in range(32)} \n",
    "di.update({\" \": 0})\n",
    "inverted_d = {value: key for key, value in di.items()}\n",
    "len_full_name = 36  # max full name length\n",
    "\n",
    "def  string_to_num(character_string, flag=True):\n",
    "    character_list = list(character_string)\n",
    "    character_numbers = [di[item] for item in character_list]\n",
    "\n",
    "    if flag:\n",
    "        while len(character_numbers) < len_full_name:\n",
    "            character_numbers.append(0)\n",
    "\n",
    "    return character_numbers\n",
    "\n",
    "def num_to_string(character_numbers):\n",
    "    return [inverted_d.get(item, \"_\") for item in character_numbers]"
   ]
  },
  {
   "cell_type": "code",
   "execution_count": 66,
   "metadata": {},
   "outputs": [],
   "source": [
    "def transform_features(features,\n",
    "                       ind_slice=None, flag=None, reshape_flag=True,\n",
    "                       gray_flag=True, normal_flag=False):\n",
    "    features = features.as_numpy_iterator()\n",
    "    if gray_flag:\n",
    "        lst_to_crop = [rgb2gray(item) for item in features]\n",
    "    else:\n",
    "        lst_to_crop = [item for item in features]\n",
    "\n",
    "    if flag == \"val\":\n",
    "        features = np.array(lst_to_crop[ind_slice:], dtype=np.float64)\n",
    "    elif flag == \"train\":\n",
    "        features = np.array(lst_to_crop[:ind_slice], dtype=np.float64)\n",
    "    else:\n",
    "        features = np.array(lst_to_crop, dtype=np.float64)\n",
    "\n",
    "    if reshape_flag:\n",
    "        n, nx, ny = features.shape\n",
    "        features = features.reshape((n, nx * ny))\n",
    "\n",
    "    if normal_flag:\n",
    "        norm = tf.keras.layers.Rescaling(scale=1.0 / 255.0)\n",
    "        features = norm(features)\n",
    "\n",
    "    return features"
   ]
  },
  {
   "cell_type": "code",
   "execution_count": 67,
   "metadata": {},
   "outputs": [],
   "source": [
    "def reverse_flat_categories(array, initial_shape):\n",
    "    res = tf.keras.layers.Reshape((initial_shape[1], initial_shape[2]))\n",
    "\n",
    "    return np.argmax(res(array), axis=2)\n",
    "\n",
    "\n",
    "def reverse_flat_continuous(array, initial_shape):\n",
    "    res = tf.keras.layers.Reshape((initial_shape[1], initial_shape[2]))\n",
    "\n",
    "    return res(array)"
   ]
  },
  {
   "cell_type": "markdown",
   "metadata": {},
   "source": [
    "Upload data"
   ]
  },
  {
   "cell_type": "code",
   "execution_count": 72,
   "metadata": {},
   "outputs": [],
   "source": [
    "with open(\"labels_train.txt\") as f:\n",
    "    dt = f.read().split(\"\\n\")\n",
    "    labels = np.array(list(map(string_to_num, dt)), dtype=np.int64)\n",
    "\n",
    "with open(\"labels_valid.txt\") as f:\n",
    "    extra_dt = f.read().split(\"\\n\")\n",
    "    extra_labels = np.array(list(map(string_to_num, extra_dt)), dtype=np.int64)"
   ]
  },
  {
   "cell_type": "code",
   "execution_count": 78,
   "metadata": {},
   "outputs": [
    {
     "name": "stdout",
     "output_type": "stream",
     "text": [
      "Found 14 files belonging to 1 classes.\n",
      "Found 3 files belonging to 1 classes.\n",
      "Found 10 files belonging to 1 classes.\n"
     ]
    }
   ],
   "source": [
    "img_height = 224\n",
    "img_width = 224\n",
    "entry_features = tf.keras.utils.image_dataset_from_directory(\n",
    "    'TrainData',\n",
    "    image_size=(img_height, img_width), interpolation=\"bicubic\",\n",
    "    batch_size=None, shuffle=False, labels=None)\n",
    "extra_entry_features = tf.keras.utils.image_dataset_from_directory(\n",
    "    \"ValidData\",\n",
    "    image_size=(img_height, img_width), interpolation=\"bicubic\",\n",
    "    batch_size=None, shuffle=False, labels=None)\n",
    "extra_eval_data = tf.keras.utils.image_dataset_from_directory(\n",
    "    \"DataForOCR\",\n",
    "    image_size=(img_height, img_width), interpolation=\"bicubic\",\n",
    "    batch_size=None, shuffle=False, labels=None)"
   ]
  },
  {
   "cell_type": "code",
   "execution_count": 74,
   "metadata": {},
   "outputs": [],
   "source": [
    "combined_features_dataset = entry_features.concatenate(extra_entry_features)\n",
    "tf_features = tf.convert_to_tensor(transform_features(combined_features_dataset,\n",
    "                                                      reshape_flag=False,\n",
    "                                                      gray_flag=False, normal_flag=True))\n",
    "tf_labels = tf.convert_to_tensor(np.concatenate((labels, extra_labels), axis=0))"
   ]
  },
  {
   "cell_type": "code",
   "execution_count": 75,
   "metadata": {},
   "outputs": [],
   "source": [
    "cat_label_group = tf.keras.utils.to_categorical(tf_labels, num_classes=33)\n",
    "cat_label_group_shape = cat_label_group.shape\n",
    "flat = tf.keras.layers.Flatten()\n",
    "flat_label_group = flat(cat_label_group)"
   ]
  },
  {
   "cell_type": "markdown",
   "metadata": {},
   "source": [
    "Training"
   ]
  },
  {
   "cell_type": "code",
   "execution_count": 76,
   "metadata": {},
   "outputs": [],
   "source": [
    "def train_model(model,\n",
    "                feature_set, epochs, label_set,\n",
    "                validation_split, batch_size=None):\n",
    "    history = model.fit(x=feature_set, y=label_set, batch_size=batch_size,\n",
    "                        epochs=epochs, shuffle=True,\n",
    "                        validation_split=validation_split)\n",
    "    epochs = history.epoch\n",
    "\n",
    "    hist = pd.DataFrame(history.history)\n",
    "    mse1, mse2, acc1, acc2 = hist[\"loss\"], hist[\"val_loss\"],\\\n",
    "                             hist[\"accuracy\"], hist[\"val_accuracy\"]\n",
    "\n",
    "    return epochs, mse1, mse2, acc1, acc2"
   ]
  },
  {
   "cell_type": "code",
   "execution_count": 77,
   "metadata": {},
   "outputs": [],
   "source": [
    "def plot_the_loss_curve(epochs, mse1, mse2):\n",
    "    plt.figure()\n",
    "    plt.xlabel(\"Epoch\")\n",
    "    plt.ylabel(\"Loss\")\n",
    "    plt.plot(epochs, mse1, label=\"Training\")\n",
    "    plt.plot(epochs, mse2, label=\"Validation\")\n",
    "    plt.legend()\n",
    "    plt.show()\n",
    "\n",
    "\n",
    "def plot_accuracy(epochs, acc1, acc2):\n",
    "    plt.figure()\n",
    "    plt.xlabel(\"Epoch\")\n",
    "    plt.ylabel(\"Accuracy\")\n",
    "    plt.plot(epochs, acc1, label=\"Training\")\n",
    "    plt.plot(epochs, acc2, label=\"Validation\")\n",
    "    plt.legend()\n",
    "    plt.show()"
   ]
  },
  {
   "cell_type": "code",
   "execution_count": 79,
   "metadata": {},
   "outputs": [],
   "source": [
    "def construct_model(set_learning_rate, output_dims=60, inp_shape=(500, 500, 3)):\n",
    "    model = tf.keras.models.Sequential()\n",
    "\n",
    "    # VGG-16 like\n",
    "    model.add(tf.keras.layers.Conv2D(input_shape=inp_shape,\n",
    "                                     filters=64, kernel_size=(3, 3), padding=\"same\",\n",
    "                                     activation=\"tanh\"))\n",
    "    model.add(tf.keras.layers.Conv2D(filters=64, kernel_size=(3, 3), padding=\"same\",\n",
    "                                     activation=\"tanh\"))\n",
    "    model.add(tf.keras.layers.MaxPool2D(pool_size=(2, 2), strides=(2, 2)))\n",
    "\n",
    "    model.add(tf.keras.layers.Conv2D(filters=128, kernel_size=(3, 3), padding=\"same\",\n",
    "                                     activation=\"tanh\"))\n",
    "    model.add(tf.keras.layers.Conv2D(filters=128, kernel_size=(3, 3), padding=\"same\",\n",
    "                                     activation=\"tanh\"))\n",
    "    model.add(tf.keras.layers.MaxPool2D(pool_size=(2, 2), strides=(2, 2)))\n",
    "\n",
    "    model.add(tf.keras.layers.Conv2D(filters=256, kernel_size=(3, 3), padding=\"same\",\n",
    "                                     activation=\"tanh\"))\n",
    "    model.add(tf.keras.layers.Conv2D(filters=256, kernel_size=(3, 3), padding=\"same\",\n",
    "                                     activation=\"tanh\"))\n",
    "    model.add(tf.keras.layers.Conv2D(filters=256, kernel_size=(3, 3), padding=\"same\",\n",
    "                                     activation=\"tanh\"))\n",
    "    model.add(tf.keras.layers.MaxPool2D(pool_size=(2, 2), strides=(2, 2)))\n",
    "\n",
    "    model.add(tf.keras.layers.Conv2D(filters=512, kernel_size=(3, 3), padding=\"same\",\n",
    "                                     activation=\"tanh\"))\n",
    "    model.add(tf.keras.layers.Conv2D(filters=512, kernel_size=(3, 3), padding=\"same\",\n",
    "                                     activation=\"tanh\"))\n",
    "    model.add(tf.keras.layers.Conv2D(filters=512, kernel_size=(3, 3), padding=\"same\",\n",
    "                                     activation=\"tanh\"))\n",
    "    model.add(tf.keras.layers.MaxPool2D(pool_size=(2, 2), strides=(2, 2)))\n",
    "\n",
    "    model.add(tf.keras.layers.Conv2D(filters=512, kernel_size=(3, 3), padding=\"same\",\n",
    "                                     activation=\"tanh\"))\n",
    "    model.add(tf.keras.layers.Conv2D(filters=512, kernel_size=(3, 3), padding=\"same\",\n",
    "                                     activation=\"tanh\"))\n",
    "    model.add(tf.keras.layers.Conv2D(filters=512, kernel_size=(3, 3), padding=\"same\",\n",
    "                                     activation=\"tanh\"))\n",
    "    model.add(tf.keras.layers.MaxPool2D(pool_size=(2, 2), strides=(2, 2)))\n",
    "\n",
    "    model.add(tf.keras.layers.Flatten())\n",
    "    model.add(tf.keras.layers.Dense(units=4096, activation=\"relu\"))\n",
    "    model.add(tf.keras.layers.Dense(units=4096, activation=\"relu\"))\n",
    "    model.add(tf.keras.layers.Dense(units=output_dims,\n",
    "                                    activation=\"softmax\"))\n",
    "\n",
    "    model.compile(optimizer=tf.keras.optimizers.Adadelta(),\n",
    "                  loss=tf.keras.losses.CategoricalCrossentropy(),\n",
    "                  metrics=tf.keras.metrics.Accuracy())\n",
    "\n",
    "    return model"
   ]
  },
  {
   "cell_type": "code",
   "execution_count": 80,
   "metadata": {},
   "outputs": [
    {
     "name": "stdout",
     "output_type": "stream",
     "text": [
      "Epoch 1/30\n",
      "2/2 [==============================] - 64s 23s/step - loss: 255.0027 - accuracy: 0.0000e+00 - val_loss: 254.3550 - val_accuracy: 0.0000e+00\n",
      "Epoch 2/30\n",
      "2/2 [==============================] - 47s 21s/step - loss: 254.5617 - accuracy: 0.0000e+00 - val_loss: 254.0297 - val_accuracy: 0.0000e+00\n",
      "Epoch 3/30\n",
      "2/2 [==============================] - 43s 19s/step - loss: 254.1201 - accuracy: 0.0000e+00 - val_loss: 253.6787 - val_accuracy: 0.0000e+00\n",
      "Epoch 4/30\n",
      "2/2 [==============================] - 45s 19s/step - loss: 253.6513 - accuracy: 0.0000e+00 - val_loss: 253.2814 - val_accuracy: 0.0000e+00\n",
      "Epoch 5/30\n",
      "2/2 [==============================] - 37s 17s/step - loss: 253.1209 - accuracy: 0.0000e+00 - val_loss: 252.8043 - val_accuracy: 0.0000e+00\n",
      "Epoch 6/30\n",
      "2/2 [==============================] - 35s 17s/step - loss: 252.4814 - accuracy: 0.0000e+00 - val_loss: 252.2118 - val_accuracy: 0.0000e+00\n",
      "Epoch 7/30\n",
      "2/2 [==============================] - 48s 28s/step - loss: 251.7009 - accuracy: 0.0000e+00 - val_loss: 251.4678 - val_accuracy: 0.0000e+00\n",
      "Epoch 8/30\n",
      "2/2 [==============================] - 41s 18s/step - loss: 250.7053 - accuracy: 0.0000e+00 - val_loss: 250.4907 - val_accuracy: 0.0000e+00\n",
      "Epoch 9/30\n",
      "2/2 [==============================] - 40s 18s/step - loss: 249.4382 - accuracy: 0.0000e+00 - val_loss: 249.2636 - val_accuracy: 0.0000e+00\n",
      "Epoch 10/30\n",
      "2/2 [==============================] - 35s 16s/step - loss: 247.7726 - accuracy: 0.0000e+00 - val_loss: 247.5626 - val_accuracy: 0.0000e+00\n",
      "Epoch 11/30\n",
      "2/2 [==============================] - 32s 14s/step - loss: 245.5131 - accuracy: 0.0000e+00 - val_loss: 245.3467 - val_accuracy: 0.0000e+00\n",
      "Epoch 12/30\n",
      "2/2 [==============================] - 37s 18s/step - loss: 242.5437 - accuracy: 0.0000e+00 - val_loss: 242.5238 - val_accuracy: 0.0000e+00\n",
      "Epoch 13/30\n",
      "2/2 [==============================] - 36s 16s/step - loss: 238.6623 - accuracy: 0.0000e+00 - val_loss: 239.2035 - val_accuracy: 0.0000e+00\n",
      "Epoch 14/30\n",
      "2/2 [==============================] - 35s 16s/step - loss: 234.1881 - accuracy: 0.0000e+00 - val_loss: 236.1264 - val_accuracy: 0.0000e+00\n",
      "Epoch 15/30\n",
      "2/2 [==============================] - 42s 16s/step - loss: 229.6731 - accuracy: 0.0000e+00 - val_loss: 235.5473 - val_accuracy: 0.0000e+00\n",
      "Epoch 16/30\n",
      "2/2 [==============================] - 35s 16s/step - loss: 227.7712 - accuracy: 0.0000e+00 - val_loss: 242.6598 - val_accuracy: 0.0000e+00\n",
      "Epoch 17/30\n",
      "2/2 [==============================] - 36s 16s/step - loss: 234.4995 - accuracy: 0.0000e+00 - val_loss: 263.6281 - val_accuracy: 0.0000e+00\n",
      "Epoch 18/30\n",
      "2/2 [==============================] - 41s 20s/step - loss: 254.6616 - accuracy: 0.0000e+00 - val_loss: 299.6928 - val_accuracy: 0.0000e+00\n",
      "Epoch 19/30\n",
      "2/2 [==============================] - 36s 15s/step - loss: 287.2666 - accuracy: 0.0000e+00 - val_loss: 348.5956 - val_accuracy: 0.0000e+00\n",
      "Epoch 20/30\n",
      "2/2 [==============================] - 37s 18s/step - loss: 333.2662 - accuracy: 0.0000e+00 - val_loss: 410.3012 - val_accuracy: 0.0000e+00\n",
      "Epoch 21/30\n",
      "2/2 [==============================] - 37s 18s/step - loss: 391.3620 - accuracy: 0.0000e+00 - val_loss: 485.5430 - val_accuracy: 0.0000e+00\n",
      "Epoch 22/30\n",
      "2/2 [==============================] - 37s 15s/step - loss: 463.6708 - accuracy: 0.0000e+00 - val_loss: 576.8608 - val_accuracy: 0.0000e+00\n",
      "Epoch 23/30\n",
      "2/2 [==============================] - 40s 18s/step - loss: 547.3768 - accuracy: 0.0000e+00 - val_loss: 692.4111 - val_accuracy: 0.0000e+00\n",
      "Epoch 24/30\n",
      "2/2 [==============================] - 45s 16s/step - loss: 657.0668 - accuracy: 0.0000e+00 - val_loss: 831.5460 - val_accuracy: 0.0000e+00\n",
      "Epoch 25/30\n",
      "2/2 [==============================] - 32s 13s/step - loss: 786.6537 - accuracy: 0.0000e+00 - val_loss: 1005.4821 - val_accuracy: 0.0000e+00\n",
      "Epoch 26/30\n",
      "2/2 [==============================] - 32s 14s/step - loss: 948.3202 - accuracy: 0.0000e+00 - val_loss: 1223.3147 - val_accuracy: 0.0000e+00\n",
      "Epoch 27/30\n",
      "2/2 [==============================] - 31s 13s/step - loss: 1152.8005 - accuracy: 0.0000e+00 - val_loss: 1491.6044 - val_accuracy: 0.0000e+00\n",
      "Epoch 28/30\n",
      "2/2 [==============================] - 32s 14s/step - loss: 1402.7104 - accuracy: 0.0000e+00 - val_loss: 1835.7997 - val_accuracy: 0.0059\n",
      "Epoch 29/30\n",
      "2/2 [==============================] - 34s 16s/step - loss: 1727.7668 - accuracy: 0.0482 - val_loss: 2276.1892 - val_accuracy: 0.4428\n",
      "Epoch 30/30\n",
      "2/2 [==============================] - 29s 13s/step - loss: 2137.1357 - accuracy: 0.5861 - val_loss: 2850.5488 - val_accuracy: 0.9120\n"
     ]
    }
   ],
   "source": [
    "learning_rate = 0.9999\n",
    "epochs = 30\n",
    "batch_size = 9\n",
    "validation_split = 0.1\n",
    "\n",
    "new_fit = construct_model(\n",
    "    learning_rate,\n",
    "    output_dims=flat_label_group.shape[1],\n",
    "    inp_shape=(img_height, img_width, 3)\n",
    ")\n",
    "epochs, mse1, mse2, acc1, acc2 = train_model(model=new_fit,\n",
    "                                             feature_set=tf_features,\n",
    "                                             epochs=epochs,\n",
    "                                             label_set=flat_label_group,\n",
    "                                             batch_size=batch_size,\n",
    "                                             validation_split=validation_split)"
   ]
  },
  {
   "cell_type": "code",
   "execution_count": null,
   "metadata": {},
   "outputs": [],
   "source": []
  },
  {
   "cell_type": "code",
   "execution_count": 81,
   "metadata": {},
   "outputs": [
    {
     "data": {
      "image/png": "[encoded data removed]",
      "text/plain": [
       "<Figure size 432x288 with 1 Axes>"
      ]
     },
     "metadata": {
      "needs_background": "light"
     },
     "output_type": "display_data"
    }
   ],
   "source": [
    "plot_the_loss_curve(epochs, mse1, mse2)"
   ]
  },
  {
   "cell_type": "code",
   "execution_count": 82,
   "metadata": {},
   "outputs": [
    {
     "data": {
      "image/png": "[encoded data removed]",
      "text/plain": [
       "<Figure size 432x288 with 1 Axes>"
      ]
     },
     "metadata": {
      "needs_background": "light"
     },
     "output_type": "display_data"
    }
   ],
   "source": [
    "plot_accuracy(epochs, acc1, acc2)"
   ]
  },
  {
   "cell_type": "code",
   "execution_count": 83,
   "metadata": {},
   "outputs": [
    {
     "name": "stdout",
     "output_type": "stream",
     "text": [
      "Model: \"sequential\"\n",
      "_________________________________________________________________\n",
      " Layer (type)                Output Shape              Param #   \n",
      "=================================================================\n",
      " conv2d (Conv2D)             (None, 224, 224, 64)      1792      \n",
      "                                                                 \n",
      " conv2d_1 (Conv2D)           (None, 224, 224, 64)      36928     \n",
      "                                                                 \n",
      " max_pooling2d (MaxPooling2D  (None, 112, 112, 64)     0         \n",
      " )                                                               \n",
      "                                                                 \n",
      " conv2d_2 (Conv2D)           (None, 112, 112, 128)     73856     \n",
      "                                                                 \n",
      " conv2d_3 (Conv2D)           (None, 112, 112, 128)     147584    \n",
      "                                                                 \n",
      " max_pooling2d_1 (MaxPooling  (None, 56, 56, 128)      0         \n",
      " 2D)                                                             \n",
      "                                                                 \n",
      " conv2d_4 (Conv2D)           (None, 56, 56, 256)       295168    \n",
      "                                                                 \n",
      " conv2d_5 (Conv2D)           (None, 56, 56, 256)       590080    \n",
      "                                                                 \n",
      " conv2d_6 (Conv2D)           (None, 56, 56, 256)       590080    \n",
      "                                                                 \n",
      " max_pooling2d_2 (MaxPooling  (None, 28, 28, 256)      0         \n",
      " 2D)                                                             \n",
      "                                                                 \n",
      " conv2d_7 (Conv2D)           (None, 28, 28, 512)       1180160   \n",
      "                                                                 \n",
      " conv2d_8 (Conv2D)           (None, 28, 28, 512)       2359808   \n",
      "                                                                 \n",
      " conv2d_9 (Conv2D)           (None, 28, 28, 512)       2359808   \n",
      "                                                                 \n",
      " max_pooling2d_3 (MaxPooling  (None, 14, 14, 512)      0         \n",
      " 2D)                                                             \n",
      "                                                                 \n",
      " conv2d_10 (Conv2D)          (None, 14, 14, 512)       2359808   \n",
      "                                                                 \n",
      " conv2d_11 (Conv2D)          (None, 14, 14, 512)       2359808   \n",
      "                                                                 \n",
      " conv2d_12 (Conv2D)          (None, 14, 14, 512)       2359808   \n",
      "                                                                 \n",
      " max_pooling2d_4 (MaxPooling  (None, 7, 7, 512)        0         \n",
      " 2D)                                                             \n",
      "                                                                 \n",
      " flatten_1 (Flatten)         (None, 25088)             0         \n",
      "                                                                 \n",
      " dense (Dense)               (None, 4096)              102764544 \n",
      "                                                                 \n",
      " dense_1 (Dense)             (None, 4096)              16781312  \n",
      "                                                                 \n",
      " dense_2 (Dense)             (None, 1188)              4867236   \n",
      "                                                                 \n",
      "=================================================================\n",
      "Total params: 139,127,780\n",
      "Trainable params: 139,127,780\n",
      "Non-trainable params: 0\n",
      "_________________________________________________________________\n"
     ]
    }
   ],
   "source": [
    "new_fit.summary()"
   ]
  },
  {
   "cell_type": "code",
   "execution_count": 84,
   "metadata": {},
   "outputs": [
    {
     "name": "stdout",
     "output_type": "stream",
     "text": [
      "1/1 [==============================] - 7s 7s/step\n"
     ]
    }
   ],
   "source": [
    "out = new_fit.predict(\n",
    "    x=tf.convert_to_tensor(transform_features(\n",
    "        extra_eval_data,\n",
    "        reshape_flag=False,\n",
    "        gray_flag=False,\n",
    "        normal_flag=True\n",
    "    )),\n",
    ")"
   ]
  },
  {
   "cell_type": "code",
   "execution_count": 86,
   "metadata": {},
   "outputs": [
    {
     "name": "stdout",
     "output_type": "stream",
     "text": [
      "['САКАЕОВ АВААТААРС  ИНОВАЕ           ', 'САКАЕОВ АВААТААРС  ИНОВАЕ           ', 'САКАЕОВ АВААТААРС  ИНОВАЕ           ', 'САКАЕОВ АВААТААРС  ИНОВАЕ           ', 'САКАЕОВ АВААТААРС  ИНОВАЕ           ', 'САКАЕОВ АВААТААРС  ИНОВАЕ           ', 'САКАЕОВ АВААТААРС  ИНОВАЕ           ', 'САКАЕОВ АВААТААРС  ИНОВАЕ           ', 'САКАЕОВ АВААТААРС  ИНОВАЕ           ', 'САКАЕОВ АВААТААРС  ИНОВАЕ           ']\n"
     ]
    }
   ],
   "source": [
    "print(list(map(\n",
    "    lambda x: ''.join(num_to_string(x)),\n",
    "    reverse_flat_categories(out, cat_label_group_shape)\n",
    ")))"
   ]
  }
 ],
 "metadata": {
  "kernelspec": {
   "display_name": "Python 3.9.12 ('base')",
   "language": "python",
   "name": "python3"
  },
  "language_info": {
   "codemirror_mode": {
    "name": "ipython",
    "version": 3
   },
   "file_extension": ".py",
   "mimetype": "text/x-python",
   "name": "python",
   "nbconvert_exporter": "python",
   "pygments_lexer": "ipython3",
   "version": "3.9.12"
  },
  "orig_nbformat": 4,
  "vscode": {
   "interpreter": {
    "hash": "a4af91d33ec6268fa186d90437f8cb3cd71e802bf998707b61c648dfaadd642d"
   }
  }
 },
 "nbformat": 4,
 "nbformat_minor": 2
}

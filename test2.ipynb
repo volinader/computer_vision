{
 "cells": [
  {
   "cell_type": "code",
   "execution_count": 2,
   "metadata": {},
   "outputs": [],
   "source": [
    "import pytesseract\n",
    "import cv2"
   ]
  },
  {
   "cell_type": "code",
   "execution_count": 4,
   "metadata": {},
   "outputs": [],
   "source": [
    "image = cv2.imread('DataForOCR/5.jpeg')\n",
    "base_image = image.copy()"
   ]
  },
  {
   "cell_type": "code",
   "execution_count": 5,
   "metadata": {},
   "outputs": [],
   "source": [
    "gray = cv2.cvtColor(image, cv2.COLOR_BGR2GRAY)"
   ]
  },
  {
   "cell_type": "code",
   "execution_count": 6,
   "metadata": {},
   "outputs": [
    {
     "data": {
      "text/plain": [
       "True"
      ]
     },
     "execution_count": 6,
     "metadata": {},
     "output_type": "execute_result"
    }
   ],
   "source": [
    "cv2.imwrite('test2/index_gray.png', gray)"
   ]
  },
  {
   "cell_type": "code",
   "execution_count": 114,
   "metadata": {},
   "outputs": [],
   "source": [
    "blur = cv2.GaussianBlur(gray, (25,25), 3)"
   ]
  },
  {
   "cell_type": "code",
   "execution_count": 94,
   "metadata": {},
   "outputs": [
    {
     "data": {
      "text/plain": [
       "True"
      ]
     },
     "execution_count": 94,
     "metadata": {},
     "output_type": "execute_result"
    }
   ],
   "source": [
    "cv2.imwrite('test2/index_blur.png', blur)"
   ]
  },
  {
   "cell_type": "code",
   "execution_count": 123,
   "metadata": {},
   "outputs": [],
   "source": [
    "thresh = cv2.threshold(blur, 0, 250, cv2.THRESH_BINARY_INV + cv2.THRESH_OTSU)[1]"
   ]
  },
  {
   "cell_type": "code",
   "execution_count": 122,
   "metadata": {},
   "outputs": [
    {
     "data": {
      "text/plain": [
       "True"
      ]
     },
     "execution_count": 122,
     "metadata": {},
     "output_type": "execute_result"
    }
   ],
   "source": [
    "cv2.imwrite('test2/index_thresh.png', thresh)"
   ]
  },
  {
   "cell_type": "code",
   "execution_count": 106,
   "metadata": {},
   "outputs": [],
   "source": [
    "kernel = cv2.getStructuringElement(cv2.MORPH_RECT, (3,7))"
   ]
  },
  {
   "cell_type": "code",
   "execution_count": 108,
   "metadata": {},
   "outputs": [
    {
     "data": {
      "text/plain": [
       "True"
      ]
     },
     "execution_count": 108,
     "metadata": {},
     "output_type": "execute_result"
    }
   ],
   "source": [
    "cv2.imwrite('test2/index_kernel.png', kernel)"
   ]
  },
  {
   "cell_type": "code",
   "execution_count": 109,
   "metadata": {},
   "outputs": [],
   "source": [
    "dilate = cv2.dilate(thresh, kernel, iterations=1)"
   ]
  },
  {
   "cell_type": "code",
   "execution_count": 110,
   "metadata": {},
   "outputs": [
    {
     "data": {
      "text/plain": [
       "True"
      ]
     },
     "execution_count": 110,
     "metadata": {},
     "output_type": "execute_result"
    }
   ],
   "source": [
    "cv2.imwrite('test2/index_dilate.png', dilate)"
   ]
  },
  {
   "cell_type": "code",
   "execution_count": 74,
   "metadata": {},
   "outputs": [],
   "source": [
    "cnts = cv2.findContours(dilate, cv2.RETR_EXTERNAL, cv2.CHAIN_APPROX_SIMPLE)"
   ]
  },
  {
   "cell_type": "code",
   "execution_count": 75,
   "metadata": {},
   "outputs": [],
   "source": [
    "cnts = cnts[0] if len(cnts) == 2 else cnts[1]"
   ]
  },
  {
   "cell_type": "code",
   "execution_count": 76,
   "metadata": {},
   "outputs": [],
   "source": [
    "cnts = sorted(cnts, key=lambda x: cv2.boundingRect(x)[0])"
   ]
  },
  {
   "cell_type": "code",
   "execution_count": 78,
   "metadata": {},
   "outputs": [
    {
     "data": {
      "text/plain": [
       "True"
      ]
     },
     "execution_count": 78,
     "metadata": {},
     "output_type": "execute_result"
    }
   ],
   "source": [
    "for c in cnts:\n",
    "    x, y, w, h = cv2.boundingRect(c)\n",
    "    if h > 20 and w > 5:\n",
    "        roi = image[y:y+h, x:x+h]\n",
    "        cv2.imwrite('test2/index_roi.png', roi)\n",
    "        cv2.rectangle(image, (x, y), (x+w, y+h), (36, 255, 12), 2)\n",
    "cv2.imwrite('test2/index_bbox.png', image)"
   ]
  },
  {
   "cell_type": "code",
   "execution_count": 35,
   "metadata": {},
   "outputs": [
    {
     "data": {
      "text/plain": [
       "True"
      ]
     },
     "execution_count": 35,
     "metadata": {},
     "output_type": "execute_result"
    }
   ],
   "source": [
    "from matplotlib import pyplot as plt\n",
    "\n",
    "#ret,thresh4 = cv2.threshold(gray,150,255,cv2.THRESH_TOZERO)\n",
    "#ret,thresh4 = cv2.threshold(gray,160,255,cv2.THRESH_TOZERO)\n",
    "\n",
    "ret,thresh4 = cv2.threshold(gray,150,255,cv2.THRESH_TOZERO)\n",
    "cv2.imwrite('no_noise/thresh4.png', thresh4)\n",
    "\n"
   ]
  },
  {
   "cell_type": "code",
   "execution_count": 83,
   "metadata": {},
   "outputs": [
    {
     "data": {
      "text/plain": [
       "True"
      ]
     },
     "execution_count": 83,
     "metadata": {},
     "output_type": "execute_result"
    }
   ],
   "source": [
    "# Load image, grayscale, Otsu's threshold\n",
    "image = cv2.imread('DataForOCR/0.jpeg')\n",
    "gray = cv2.cvtColor(image, cv2.COLOR_BGR2GRAY)\n",
    "ret,thresh = cv2.threshold(gray,150,255,cv2.THRESH_TOZERO)\n",
    "# Morph open to remove noise\n",
    "kernel = cv2.getStructuringElement(cv2.MORPH_RECT, (2,2))\n",
    "opening = cv2.morphologyEx(thresh, cv2.MORPH_OPEN, kernel, iterations=1)\n",
    "\n",
    "# Find contours and remove small noise\n",
    "cnts = cv2.findContours(opening, cv2.RETR_EXTERNAL, cv2.CHAIN_APPROX_SIMPLE)\n",
    "cnts = cnts[0] if len(cnts) == 2 else cnts[1]\n",
    "for c in cnts:\n",
    "    area = cv2.contourArea(c)\n",
    "    if area < 50:\n",
    "        cv2.drawContours(opening, [c], -1, 0, -1)\n",
    "\n",
    "# Invert and apply slight Gaussian blur\n",
    "result = 255 - opening\n",
    "result = cv2.GaussianBlur(result, (3,3), 0)\n",
    "\n",
    "# Perform OCR\n",
    "#data = pytesseract.image_to_string(result, lang='eng', config='--psm 6')\n",
    "#print(data)\n",
    "\n",
    "cv2.imwrite('no_noise/thresh.png', thresh)\n",
    "cv2.imwrite('no_noise/opening.png', opening)\n",
    "cv2.imwrite('no_noise/result.png', result)"
   ]
  },
  {
   "cell_type": "code",
   "execution_count": 52,
   "metadata": {},
   "outputs": [
    {
     "name": "stdout",
     "output_type": "stream",
     "text": [
      "о Ее\n",
      "о о и\n",
      "г россии Екея ЕДеРАЗЦИЯ\n",
      "ОТДЕЛОМУФМСРОЗСНи\n",
      "а Паспортзылан ы вв с\n",
      "ПОСВЕРДЛОВСКОЙОБЛАСТИ\n",
      "КИРОВСКОМРЕНЕГОРЕКАТЕРИНЬГЬЛ\n",
      "о ВА ВЯНЗЕ\n",
      "ЕН Б с\n",
      "а Дитавалачи Кодаачавааделения т\n",
      "я\n",
      "о ИОН\n",
      "а С к НЕ ь Со Е\n",
      "ОЖА Е\n",
      "и БЫ\n",
      "ти а аа\n",
      "ао я ЛичвыитрА\n",
      "к сясВЕ ее ес\n",
      "ПСХИ ры\n",
      "ввь\n",
      "г Е\n",
      "а к\n",
      "скроескофовковосоо АКАЕВА\n",
      "аа Фамплия\n",
      "й АИ Е Р\n",
      "оС ыы р\n",
      "ес Ще ЖАННА с\n",
      "г в с зщ\n",
      "в В РИН АНАТОЛЬЕТА\n",
      "ея е Я\n",
      "сЖЕЙвмиОЭ Г\n",
      "у м\n",
      "Е южиныРОР СВЕРДЛОВСК\n",
      "я ры с\n",
      "Но\n",
      "ЕН Е\n",
      "ВтБЫН\n",
      "ЗЧ ть а в и Се ь\n",
      "\n"
     ]
    }
   ],
   "source": [
    "image = cv2.imread('test3/9.png')\n",
    "\n",
    "data = pytesseract.image_to_string(image, lang='rus', config='--psm 6 -c tessedit_char_whitelist=АБВГДЕЁЖЗИЙКЛМНОПРСТУФХЦЧШЩЪЫЬЭЮЯабвгдеёжзийклмнопрстуфхцчшщъыьэюя')\n",
    "print(data)"
   ]
  },
  {
   "cell_type": "code",
   "execution_count": 80,
   "metadata": {},
   "outputs": [
    {
     "data": {
      "text/plain": [
       "True"
      ]
     },
     "execution_count": 80,
     "metadata": {},
     "output_type": "execute_result"
    }
   ],
   "source": [
    "import numpy as np\n",
    "image_mask = cv2.imread('DataForOCR/9.jpeg')\n",
    "hsv = cv2.cvtColor(image_mask, cv2.COLOR_BGR2HSV)\n",
    "low = np.array([117, 234, 228])\n",
    "high = np.array([56, 112, 109])\n",
    "mask = cv2.inRange(hsv, high, low)\n",
    "\n",
    "cv2.imwrite('no_noise/image_mask.png', mask)\n"
   ]
  },
  {
   "cell_type": "code",
   "execution_count": 170,
   "metadata": {},
   "outputs": [
    {
     "name": "stdout",
     "output_type": "stream",
     "text": [
      "Name(first='роман', last=None, middle=None)\n",
      "Name(first='макаров', last=None, middle=None)\n"
     ]
    }
   ],
   "source": [
    "from natasha import NamesExtractor, doc, PER, MorphVocab\n",
    "morph_vocab = MorphVocab()\n",
    "\n",
    "extractor = NamesExtractor(morph_vocab)\n",
    "\n",
    "text = ['ПСКОВСКОЙОБЛ', 'БОРОУСЫ', 'Месть', 'рождения', 'Хата', 'ЭчО', 'ДЕРБОРОУСЫ', 'отчество', 'ЮРЬЕВИЧ', 'Имя', 'РОМАН', 'МАКАРОВ']\n",
    "for i in text:\n",
    "    #print(i)\n",
    "    matches = extractor(i.lower())\n",
    "\n",
    "    for match in matches:\n",
    "        print(match.fact)\n"
   ]
  },
  {
   "cell_type": "code",
   "execution_count": 1,
   "metadata": {},
   "outputs": [
    {
     "name": "stdout",
     "output_type": "stream",
     "text": [
      "[MorphToken(value='дональд', span=[0, 7), type='RU', forms=[Form('дональд', Grams(NOUN,Name,anim,masc,nomn,sing))])]\n",
      "[MorphToken(value='джон', span=[0, 4), type='RU', forms=[Form('джон', Grams(NOUN,Name,anim,masc,nomn,sing))])]\n",
      "[MorphToken(value='мухб', span=[0, 4), type='RU', forms=[Form('мухб', Grams(NOUN,Orgn,inan,masc,nomn,sing)), Form('мухб', Grams(NOUN,Orgn,accs,inan,masc,sing)), Form('мухбый', Grams(ADJS,Qual,masc,sing)), Form('мухбнуть', Grams(VERB,indc,intr,masc,past,perf,sing)), Form('мухб', Grams(ADVB)), Form('мухб', Grams(ADJF,Abbr,Fixd,masc,nomn,sing)), Form('мухб', Grams(ADJF,Abbr,Fixd,gent,masc,sing)), Form('мухб', Grams(ADJF,Abbr,Fixd,datv,masc,sing)), Form('мухб', Grams(ADJF,Abbr,Fixd,accs,masc,sing)), Form('мухб', Grams(ADJF,Abbr,Fixd,ablt,masc,sing)), Form('мухб', Grams(ADJF,Abbr,Fixd,loct,masc,sing)), Form('мухб', Grams(ADJF,Abbr,Fixd,femn,nomn,sing)), Form('мухб', Grams(ADJF,Abbr,Fixd,femn,gent,sing)), Form('мухб', Grams(ADJF,Abbr,Fixd,datv,femn,sing)), Form('мухб', Grams(ADJF,Abbr,Fixd,accs,femn,sing)), Form('мухб', Grams(ADJF,Abbr,Fixd,ablt,femn,sing)), Form('мухб', Grams(ADJF,Abbr,Fixd,femn,loct,sing)), Form('мухб', Grams(ADJF,Abbr,Fixd,neut,nomn,sing)), Form('мухб', Grams(ADJF,Abbr,Fixd,gent,neut,sing)), Form('мухб', Grams(ADJF,Abbr,Fixd,datv,neut,sing)), Form('мухб', Grams(ADJF,Abbr,Fixd,accs,neut,sing)), Form('мухб', Grams(ADJF,Abbr,Fixd,ablt,neut,sing)), Form('мухб', Grams(ADJF,Abbr,Fixd,loct,neut,sing)), Form('мухб', Grams(ADJF,Abbr,Fixd,nomn,plur)), Form('мухб', Grams(ADJF,Abbr,Fixd,gent,plur)), Form('мухб', Grams(ADJF,Abbr,Fixd,datv,plur)), Form('мухб', Grams(ADJF,Abbr,Fixd,accs,plur)), Form('мухб', Grams(ADJF,Abbr,Fixd,ablt,plur)), Form('мухб', Grams(ADJF,Abbr,Fixd,loct,plur))])]\n",
      "[MorphToken(value='тгоркуинс', span=[0, 9), type='RU', forms=[Form('тгоркуинс', Grams(NOUN,Name,anim,masc,nomn,sing))])]\n",
      "[MorphToken(value='штатньюйорк', span=[0, 11), type='RU', forms=[Form('штатньюйорк', Grams(Geox,NOUN,inan,masc,nomn,sing)), Form('штатньюйорк', Grams(Geox,NOUN,accs,inan,masc,sing))])]\n",
      "[MorphToken(value='сил', span=[0, 3), type='RU', forms=[Form('сила', Grams(NOUN,femn,gent,inan,plur))])]\n",
      "[MorphToken(value='трамп', span=[0, 5), type='RU', forms=[Form('трамп', Grams(NOUN,Sgtm,Surn,anim,masc,nomn,sing)), Form('трамп', Grams(Fixd,NOUN,Sgtm,Surn,anim,femn,nomn,sing)), Form('трамп', Grams(Fixd,NOUN,Sgtm,Surn,anim,femn,gent,sing)), Form('трамп', Grams(Fixd,NOUN,Sgtm,Surn,anim,datv,femn,sing)), Form('трамп', Grams(Fixd,NOUN,Sgtm,Surn,accs,anim,femn,sing)), Form('трамп', Grams(Fixd,NOUN,Sgtm,Surn,ablt,anim,femn,sing)), Form('трамп', Grams(Fixd,NOUN,Sgtm,Surn,anim,femn,loct,sing)), Form('трамп', Grams(NOUN,inan,masc,nomn,sing)), Form('трамп', Grams(NOUN,accs,inan,masc,sing))])]\n",
      "[MorphToken(value='рени', span=[0, 4), type='RU', forms=[Form('рени', Grams(Fixd,Geox,NOUN,Sgtm,inan,masc,nomn,sing)), Form('рени', Grams(Fixd,Geox,NOUN,Sgtm,gent,inan,masc,sing)), Form('рени', Grams(Fixd,Geox,NOUN,Sgtm,datv,inan,masc,sing)), Form('рени', Grams(Fixd,Geox,NOUN,Sgtm,accs,inan,masc,sing)), Form('рени', Grams(Fixd,Geox,NOUN,Sgtm,ablt,inan,masc,sing)), Form('рени', Grams(Fixd,Geox,NOUN,Sgtm,inan,loct,masc,sing))])]\n",
      "[MorphToken(value='фито', span=[0, 4), type='RU', forms=[Form('фито', Grams(Fixd,NOUN,inan,neut,nomn,sing)), Form('фито', Grams(Fixd,NOUN,gent,inan,neut,sing)), Form('фито', Grams(Fixd,NOUN,datv,inan,neut,sing)), Form('фито', Grams(Fixd,NOUN,accs,inan,neut,sing)), Form('фито', Grams(Fixd,NOUN,ablt,inan,neut,sing)), Form('фито', Grams(Fixd,NOUN,inan,loct,neut,sing)), Form('фито', Grams(Fixd,NOUN,inan,neut,nomn,plur)), Form('фито', Grams(Fixd,NOUN,gent,inan,neut,plur)), Form('фито', Grams(Fixd,NOUN,datv,inan,neut,plur)), Form('фито', Grams(Fixd,NOUN,accs,inan,neut,plur)), Form('фито', Grams(Fixd,NOUN,ablt,inan,neut,plur)), Form('фито', Grams(Fixd,NOUN,inan,loct,neut,plur))])]\n",
      "[MorphToken(value='фиды', span=[0, 4), type='RU', forms=[Form('фид', Grams(NOUN,inan,masc,nomn,plur)), Form('фид', Grams(NOUN,accs,inan,masc,plur))])]\n",
      "[MorphToken(value='ааи', span=[0, 3), type='RU', forms=[Form('ааи', Grams(UNKN))])]\n"
     ]
    }
   ],
   "source": [
    "from yargy.tokenizer import MorphTokenizer\n",
    "from yargy import rule, Parser, or_, and_, not_\n",
    "from yargy.predicates import eq, gram\n",
    "from yargy.interpretation import fact\n",
    "from yargy.relations import gnc_relation\n",
    "\n",
    "\n",
    "text = ['ДОНАЛЬД', 'джон', 'МУХб', 'ТГОРкУИНС', 'ШТАТНЬЮЙОРК', 'сил', 'ТРАМП', 'РЕНИ', 'фито', 'фиды', 'аАИ']\n",
    "TOKENIZER = MorphTokenizer()\n",
    "for i in text:\n",
    "    print(list(TOKENIZER(i.lower())))\n"
   ]
  },
  {
   "cell_type": "code",
   "execution_count": 168,
   "metadata": {},
   "outputs": [
    {
     "name": "stdout",
     "output_type": "stream",
     "text": [
      "[['ВИКТОРИЯ'], ['НИКОЛАЕВНА'], ['ШАПОШНИКОВА']]\n"
     ]
    }
   ],
   "source": [
    "\n",
    "COMPANY = rule(or_\n",
    "                (and_\n",
    "                (gram('Name'), \n",
    "                not_\n",
    "                (gram('Fixd')), \n",
    "                not_\n",
    "                (gram('Abbr'))), \n",
    "                and_\n",
    "                (gram('Patr'), \n",
    "                not_\n",
    "                (gram('Fixd')), \n",
    "                not_\n",
    "                (gram('Abbr'))), \n",
    "                and_(gram('Surn'), \n",
    "                not_\n",
    "                (gram('Fixd')),\n",
    "                not_\n",
    "                (gram('Abbr')))))\n",
    "company_finder = rule(COMPANY)\n",
    "parser_company = Parser(company_finder)\n",
    "companies = []\n",
    "for i in text:\n",
    "\n",
    "    matches = (list(parser_company.findall(i)))\n",
    "    for i in matches:\n",
    "        companies.append([k.value for k in i.tokens])\n",
    "\n",
    "print(companies)"
   ]
  },
  {
   "cell_type": "code",
   "execution_count": 186,
   "metadata": {},
   "outputs": [
    {
     "name": "stdout",
     "output_type": "stream",
     "text": [
      "Parse(word='[', tag=OpencorporaTag('PNCT'), normal_form='[', score=1.0, methods_stack=((PunctuationAnalyzer(score=0.9), '['),))\n",
      "Parse(word=\"'ажанна\", tag=OpencorporaTag('NOUN,anim,femn,Name sing,nomn'), normal_form=\"'ажанна\", score=0.7142857142857143, methods_stack=((DictionaryAnalyzer(), 'жанна', 69, 0), (UnknownPrefixAnalyzer(score_multiplier=0.5), \"'а\")))\n",
      "Parse(word=\"'ажанна\", tag=OpencorporaTag('ADJS,Qual femn,sing'), normal_form=\"'ажанный\", score=0.28571428571428575, methods_stack=((FakeDictionary(), \"'ажанна\", 345, 28), (KnownSuffixAnalyzer(min_word_length=4, score_multiplier=0.5), 'жанна')))\n",
      "Parse(word=\"'\", tag=OpencorporaTag('PNCT'), normal_form=\"'\", score=1.0, methods_stack=((PunctuationAnalyzer(score=0.9), \"'\"),))\n",
      "Parse(word=',', tag=OpencorporaTag('PNCT'), normal_form=',', score=1.0, methods_stack=((PunctuationAnalyzer(score=0.9), ','),))\n",
      "Parse(word=\"'машеванатольевиа\", tag=OpencorporaTag('NOUN,inan,neut,Sgtm,Fixd,Orgn sing,nomn'), normal_form=\"'машеванатольевиа\", score=0.16666666666666666, methods_stack=((FakeDictionary(), \"'машеванатольевиа\", 151, 0), (KnownSuffixAnalyzer(min_word_length=4, score_multiplier=0.5), 'виа')))\n",
      "Parse(word=\"'машеванатольевиа\", tag=OpencorporaTag('NOUN,inan,neut,Sgtm,Fixd,Orgn sing,gent'), normal_form=\"'машеванатольевиа\", score=0.16666666666666666, methods_stack=((FakeDictionary(), \"'машеванатольевиа\", 151, 1), (KnownSuffixAnalyzer(min_word_length=4, score_multiplier=0.5), 'виа')))\n",
      "Parse(word=\"'машеванатольевиа\", tag=OpencorporaTag('NOUN,inan,neut,Sgtm,Fixd,Orgn sing,datv'), normal_form=\"'машеванатольевиа\", score=0.16666666666666666, methods_stack=((FakeDictionary(), \"'машеванатольевиа\", 151, 2), (KnownSuffixAnalyzer(min_word_length=4, score_multiplier=0.5), 'виа')))\n",
      "Parse(word=\"'машеванатольевиа\", tag=OpencorporaTag('NOUN,inan,neut,Sgtm,Fixd,Orgn sing,accs'), normal_form=\"'машеванатольевиа\", score=0.16666666666666666, methods_stack=((FakeDictionary(), \"'машеванатольевиа\", 151, 3), (KnownSuffixAnalyzer(min_word_length=4, score_multiplier=0.5), 'виа')))\n",
      "Parse(word=\"'машеванатольевиа\", tag=OpencorporaTag('NOUN,inan,neut,Sgtm,Fixd,Orgn sing,ablt'), normal_form=\"'машеванатольевиа\", score=0.16666666666666666, methods_stack=((FakeDictionary(), \"'машеванатольевиа\", 151, 4), (KnownSuffixAnalyzer(min_word_length=4, score_multiplier=0.5), 'виа')))\n",
      "Parse(word=\"'машеванатольевиа\", tag=OpencorporaTag('NOUN,inan,neut,Sgtm,Fixd,Orgn sing,loct'), normal_form=\"'машеванатольевиа\", score=0.16666666666666666, methods_stack=((FakeDictionary(), \"'машеванатольевиа\", 151, 5), (KnownSuffixAnalyzer(min_word_length=4, score_multiplier=0.5), 'виа')))\n",
      "Parse(word=\"'\", tag=OpencorporaTag('PNCT'), normal_form=\"'\", score=1.0, methods_stack=((PunctuationAnalyzer(score=0.9), \"'\"),))\n",
      "Parse(word=',', tag=OpencorporaTag('PNCT'), normal_form=',', score=1.0, methods_stack=((PunctuationAnalyzer(score=0.9), ','),))\n",
      "Parse(word=\"'тпженвны\", tag=OpencorporaTag('NOUN,anim,femn,Patr sing,gent'), normal_form=\"'тпженвич\", score=0.49319170171811505, methods_stack=((FakeDictionary(), \"'тпженвны\", 26, 13), (KnownSuffixAnalyzer(min_word_length=4, score_multiplier=0.5), 'вны')))\n",
      "Parse(word=\"'тпженвны\", tag=OpencorporaTag('NOUN,anim,femn,Patr plur,nomn'), normal_form=\"'тпженвич\", score=0.49319170171811505, methods_stack=((FakeDictionary(), \"'тпженвны\", 26, 18), (KnownSuffixAnalyzer(min_word_length=4, score_multiplier=0.5), 'вны')))\n",
      "Parse(word=\"'тпженвны\", tag=OpencorporaTag('ADJS plur'), normal_form=\"'тпженвный\", score=0.013616596563769873, methods_stack=((FakeDictionary(), \"'тпженвны\", 70, 30), (KnownSuffixAnalyzer(min_word_length=4, score_multiplier=0.5), 'вны')))\n",
      "Parse(word=\"'\", tag=OpencorporaTag('PNCT'), normal_form=\"'\", score=1.0, methods_stack=((PunctuationAnalyzer(score=0.9), \"'\"),))\n",
      "Parse(word=',', tag=OpencorporaTag('PNCT'), normal_form=',', score=1.0, methods_stack=((PunctuationAnalyzer(score=0.9), ','),))\n",
      "Parse(word=\"'свердловск\", tag=OpencorporaTag('NOUN,inan,masc,Geox sing,nomn'), normal_form=\"'свердловск\", score=0.5, methods_stack=((DictionaryAnalyzer(), 'свердловск', 74, 0), (UnknownPrefixAnalyzer(score_multiplier=0.5), \"'\")))\n",
      "Parse(word=\"'свердловск\", tag=OpencorporaTag('NOUN,inan,masc,Geox sing,accs'), normal_form=\"'свердловск\", score=0.5, methods_stack=((DictionaryAnalyzer(), 'свердловск', 74, 3), (UnknownPrefixAnalyzer(score_multiplier=0.5), \"'\")))\n",
      "Parse(word=\"'\", tag=OpencorporaTag('PNCT'), normal_form=\"'\", score=1.0, methods_stack=((PunctuationAnalyzer(score=0.9), \"'\"),))\n",
      "Parse(word=',', tag=OpencorporaTag('PNCT'), normal_form=',', score=1.0, methods_stack=((PunctuationAnalyzer(score=0.9), ','),))\n",
      "Parse(word=\"'жанна\", tag=OpencorporaTag('NOUN,anim,femn,Name sing,nomn'), normal_form=\"'жанна\", score=0.7142857142857143, methods_stack=((DictionaryAnalyzer(), 'жанна', 69, 0), (UnknownPrefixAnalyzer(score_multiplier=0.5), \"'\")))\n",
      "Parse(word=\"'жанна\", tag=OpencorporaTag('ADJS,Qual femn,sing'), normal_form=\"'жанный\", score=0.28571428571428575, methods_stack=((FakeDictionary(), \"'жанна\", 345, 28), (KnownSuffixAnalyzer(min_word_length=4, score_multiplier=0.5), 'жанна')))\n",
      "Parse(word=\"'\", tag=OpencorporaTag('PNCT'), normal_form=\"'\", score=1.0, methods_stack=((PunctuationAnalyzer(score=0.9), \"'\"),))\n",
      "Parse(word=',', tag=OpencorporaTag('PNCT'), normal_form=',', score=1.0, methods_stack=((PunctuationAnalyzer(score=0.9), ','),))\n",
      "Parse(word=\"'анчныйкол\", tag=OpencorporaTag('NOUN,inan,masc sing,nomn'), normal_form=\"'анчныйкол\", score=0.3333333333333333, methods_stack=((FakeDictionary(), \"'анчныйкол\", 34, 0), (KnownSuffixAnalyzer(min_word_length=4, score_multiplier=0.5), 'кол')))\n",
      "Parse(word=\"'анчныйкол\", tag=OpencorporaTag('NOUN,inan,masc sing,accs'), normal_form=\"'анчныйкол\", score=0.3333333333333333, methods_stack=((FakeDictionary(), \"'анчныйкол\", 34, 3), (KnownSuffixAnalyzer(min_word_length=4, score_multiplier=0.5), 'кол')))\n",
      "Parse(word=\"'анчныйкол\", tag=OpencorporaTag('NOUN,inan,femn plur,gent'), normal_form=\"'анчныйкола\", score=0.3333333333333333, methods_stack=((FakeDictionary(), \"'анчныйкол\", 55, 8), (KnownSuffixAnalyzer(min_word_length=4, score_multiplier=0.5), 'кол')))\n",
      "Parse(word=\"'\", tag=OpencorporaTag('PNCT'), normal_form=\"'\", score=1.0, methods_stack=((PunctuationAnalyzer(score=0.9), \"'\"),))\n",
      "Parse(word=',', tag=OpencorporaTag('PNCT'), normal_form=',', score=1.0, methods_stack=((PunctuationAnalyzer(score=0.9), ','),))\n",
      "Parse(word=\"'датавылачи\", tag=OpencorporaTag('NOUN,inan,masc plur,nomn'), normal_form=\"'датавылач\", score=0.5, methods_stack=((FakeDictionary(), \"'датавылачи\", 136, 6), (KnownSuffixAnalyzer(min_word_length=4, score_multiplier=0.5), 'ылачи')))\n",
      "Parse(word=\"'датавылачи\", tag=OpencorporaTag('NOUN,inan,masc plur,accs'), normal_form=\"'датавылач\", score=0.5, methods_stack=((FakeDictionary(), \"'датавылачи\", 136, 9), (KnownSuffixAnalyzer(min_word_length=4, score_multiplier=0.5), 'ылачи')))\n",
      "Parse(word=\"'\", tag=OpencorporaTag('PNCT'), normal_form=\"'\", score=1.0, methods_stack=((PunctuationAnalyzer(score=0.9), \"'\"),))\n",
      "Parse(word=',', tag=OpencorporaTag('PNCT'), normal_form=',', score=1.0, methods_stack=((PunctuationAnalyzer(score=0.9), ','),))\n",
      "Parse(word=\"'кировском\", tag=OpencorporaTag('ADJF masc,sing,loct'), normal_form=\"'кировский\", score=0.3213952039862971, methods_stack=((DictionaryAnalyzer(), 'кировском', 16, 6), (UnknownPrefixAnalyzer(score_multiplier=0.5), \"'\")))\n",
      "Parse(word=\"'кировском\", tag=OpencorporaTag('ADJF neut,sing,loct'), normal_form=\"'кировский\", score=0.3213952039862971, methods_stack=((DictionaryAnalyzer(), 'кировском', 16, 19), (UnknownPrefixAnalyzer(score_multiplier=0.5), \"'\")))\n",
      "Parse(word=\"'кировском\", tag=OpencorporaTag('NOUN,inan,masc,Geox sing,ablt'), normal_form=\"'кировск\", score=0.3213952039862971, methods_stack=((DictionaryAnalyzer(), 'кировском', 74, 4), (UnknownPrefixAnalyzer(score_multiplier=0.5), \"'\")))\n",
      "Parse(word=\"'кировском\", tag=OpencorporaTag('NOUN,anim,masc,Sgtm,Surn sing,loct'), normal_form=\"'кировский\", score=0.03581438804110869, methods_stack=((FakeDictionary(), \"'кировском\", 103, 5), (KnownSuffixAnalyzer(min_word_length=4, score_multiplier=0.5), 'вском')))\n",
      "Parse(word=\"'\", tag=OpencorporaTag('PNCT'), normal_form=\"'\", score=1.0, methods_stack=((PunctuationAnalyzer(score=0.9), \"'\"),))\n",
      "Parse(word=',', tag=OpencorporaTag('PNCT'), normal_form=',', score=1.0, methods_stack=((PunctuationAnalyzer(score=0.9), ','),))\n",
      "Parse(word=\"'вкатеринь\", tag=OpencorporaTag('VERB,perf,tran sing,impr,excl'), normal_form=\"'вкатеринуть\", score=1.0, methods_stack=((FakeDictionary(), \"'вкатеринь\", 682, 13), (KnownSuffixAnalyzer(min_word_length=4, score_multiplier=0.5), 'ринь')))\n",
      "Parse(word=\"'\", tag=OpencorporaTag('PNCT'), normal_form=\"'\", score=1.0, methods_stack=((PunctuationAnalyzer(score=0.9), \"'\"),))\n",
      "Parse(word=',', tag=OpencorporaTag('PNCT'), normal_form=',', score=1.0, methods_stack=((PunctuationAnalyzer(score=0.9), ','),))\n",
      "Parse(word=\"'паспортвылан\", tag=OpencorporaTag('NOUN,anim,masc sing,nomn'), normal_form=\"'паспортвылан\", score=0.3333333333333333, methods_stack=((FakeDictionary(), \"'паспортвылан\", 52, 0), (KnownSuffixAnalyzer(min_word_length=4, score_multiplier=0.5), 'ылан')))\n",
      "Parse(word=\"'паспортвылан\", tag=OpencorporaTag('NOUN,anim,femn,Name plur,gent'), normal_form=\"'паспортвылана\", score=0.3333333333333333, methods_stack=((FakeDictionary(), \"'паспортвылан\", 69, 8), (KnownSuffixAnalyzer(min_word_length=4, score_multiplier=0.5), 'ылан')))\n",
      "Parse(word=\"'паспортвылан\", tag=OpencorporaTag('NOUN,anim,femn,Name plur,accs'), normal_form=\"'паспортвылана\", score=0.3333333333333333, methods_stack=((FakeDictionary(), \"'паспортвылан\", 69, 10), (KnownSuffixAnalyzer(min_word_length=4, score_multiplier=0.5), 'ылан')))\n",
      "Parse(word=\"'\", tag=OpencorporaTag('PNCT'), normal_form=\"'\", score=1.0, methods_stack=((PunctuationAnalyzer(score=0.9), \"'\"),))\n",
      "Parse(word=',', tag=OpencorporaTag('PNCT'), normal_form=',', score=1.0, methods_stack=((PunctuationAnalyzer(score=0.9), ','),))\n",
      "Parse(word=\"'облас\", tag=OpencorporaTag('NOUN,inan,femn plur,gent'), normal_form=\"'обласа\", score=0.5121951219512195, methods_stack=((DictionaryAnalyzer(), 'лас', 55, 8), (UnknownPrefixAnalyzer(score_multiplier=0.5), \"'об\")))\n",
      "Parse(word=\"'облас\", tag=OpencorporaTag('NOUN,inan,masc sing,nomn'), normal_form=\"'облас\", score=0.21951219512195122, methods_stack=((FakeDictionary(), \"'облас\", 34, 0), (KnownSuffixAnalyzer(min_word_length=4, score_multiplier=0.5), 'лас')))\n",
      "Parse(word=\"'облас\", tag=OpencorporaTag('NOUN,inan,masc sing,accs'), normal_form=\"'облас\", score=0.21951219512195122, methods_stack=((FakeDictionary(), \"'облас\", 34, 3), (KnownSuffixAnalyzer(min_word_length=4, score_multiplier=0.5), 'лас')))\n",
      "Parse(word=\"'облас\", tag=OpencorporaTag('ADJS masc,sing'), normal_form=\"'обласый\", score=0.04878048780487805, methods_stack=((FakeDictionary(), \"'облас\", 73, 27), (KnownSuffixAnalyzer(min_word_length=4, score_multiplier=0.5), 'лас')))\n",
      "Parse(word=\"'\", tag=OpencorporaTag('PNCT'), normal_form=\"'\", score=1.0, methods_stack=((PunctuationAnalyzer(score=0.9), \"'\"),))\n",
      "Parse(word=',', tag=OpencorporaTag('PNCT'), normal_form=',', score=1.0, methods_stack=((PunctuationAnalyzer(score=0.9), ','),))\n",
      "Parse(word=\"'отавяхт\", tag=OpencorporaTag('NOUN,inan,femn plur,gent'), normal_form=\"'отавяхта\", score=1.0, methods_stack=((DictionaryAnalyzer(), 'яхт', 55, 8), (UnknownPrefixAnalyzer(score_multiplier=0.5), \"'отав\")))\n",
      "Parse(word=\"'\", tag=OpencorporaTag('PNCT'), normal_form=\"'\", score=1.0, methods_stack=((PunctuationAnalyzer(score=0.9), \"'\"),))\n",
      "Parse(word=',', tag=OpencorporaTag('PNCT'), normal_form=',', score=1.0, methods_stack=((PunctuationAnalyzer(score=0.9), ','),))\n",
      "Parse(word=\"'ьсвердаювской\", tag=OpencorporaTag('ADJF femn,sing,gent'), normal_form=\"'ьсвердаювский\", score=0.19985465116279066, methods_stack=((FakeDictionary(), \"'ьсвердаювской\", 16, 8), (KnownSuffixAnalyzer(min_word_length=4, score_multiplier=0.5), 'вской')))\n",
      "Parse(word=\"'ьсвердаювской\", tag=OpencorporaTag('ADJF femn,sing,datv'), normal_form=\"'ьсвердаювский\", score=0.19985465116279066, methods_stack=((FakeDictionary(), \"'ьсвердаювской\", 16, 9), (KnownSuffixAnalyzer(min_word_length=4, score_multiplier=0.5), 'вской')))\n",
      "Parse(word=\"'ьсвердаювской\", tag=OpencorporaTag('ADJF femn,sing,ablt'), normal_form=\"'ьсвердаювский\", score=0.19985465116279066, methods_stack=((FakeDictionary(), \"'ьсвердаювской\", 16, 11), (KnownSuffixAnalyzer(min_word_length=4, score_multiplier=0.5), 'вской')))\n",
      "Parse(word=\"'ьсвердаювской\", tag=OpencorporaTag('ADJF femn,sing,loct'), normal_form=\"'ьсвердаювский\", score=0.19985465116279066, methods_stack=((FakeDictionary(), \"'ьсвердаювской\", 16, 13), (KnownSuffixAnalyzer(min_word_length=4, score_multiplier=0.5), 'вской')))\n",
      "Parse(word=\"'ьсвердаювской\", tag=OpencorporaTag('NOUN,anim,femn,Sgtm,Surn sing,gent'), normal_form=\"'ьсвердаювский\", score=0.050145348837209294, methods_stack=((FakeDictionary(), \"'ьсвердаювской\", 103, 7), (KnownSuffixAnalyzer(min_word_length=4, score_multiplier=0.5), 'вской')))\n",
      "Parse(word=\"'ьсвердаювской\", tag=OpencorporaTag('NOUN,anim,femn,Sgtm,Surn sing,datv'), normal_form=\"'ьсвердаювский\", score=0.050145348837209294, methods_stack=((FakeDictionary(), \"'ьсвердаювской\", 103, 8), (KnownSuffixAnalyzer(min_word_length=4, score_multiplier=0.5), 'вской')))\n",
      "Parse(word=\"'ьсвердаювской\", tag=OpencorporaTag('NOUN,anim,femn,Sgtm,Surn sing,ablt'), normal_form=\"'ьсвердаювский\", score=0.050145348837209294, methods_stack=((FakeDictionary(), \"'ьсвердаювской\", 103, 10), (KnownSuffixAnalyzer(min_word_length=4, score_multiplier=0.5), 'вской')))\n",
      "Parse(word=\"'ьсвердаювской\", tag=OpencorporaTag('NOUN,anim,femn,Sgtm,Surn sing,loct'), normal_form=\"'ьсвердаювский\", score=0.050145348837209294, methods_stack=((FakeDictionary(), \"'ьсвердаювской\", 103, 11), (KnownSuffixAnalyzer(min_word_length=4, score_multiplier=0.5), 'вской')))\n",
      "Parse(word=\"'\", tag=OpencorporaTag('PNCT'), normal_form=\"'\", score=1.0, methods_stack=((PunctuationAnalyzer(score=0.9), \"'\"),))\n",
      "Parse(word=']', tag=OpencorporaTag('PNCT'), normal_form=']', score=1.0, methods_stack=((PunctuationAnalyzer(score=0.9), ']'),))\n"
     ]
    }
   ],
   "source": [
    "import nltk\n",
    "import pymorphy2\n",
    "\n",
    "# probability score threshold\n",
    "prob_thresh = 0.4\n",
    "\n",
    "morph = pymorphy2.MorphAnalyzer()\n",
    "\n",
    "text = \"\"\"\n",
    "['аЖАННА', 'машеВАНАТОЛЬЕВИА', 'тпЖЕНвны', 'СВЕРДЛОВСК', 'ЖАННА', 'Анчныйкол', 'Датавылачи', 'КИРОВСКОМ', 'ВКАТЕРИНЬ', 'Паспортвылан', 'ОБЛАС', 'ОТАВЯХТ', 'ьСВЕРДАЮВСКОЙ']\"\"\"\n",
    "\n",
    "for word in nltk.word_tokenize(text):\n",
    "    for p in morph.parse(word):\n",
    "        print(p)\n",
    "    "
   ]
  },
  {
   "cell_type": "code",
   "execution_count": null,
   "metadata": {},
   "outputs": [],
   "source": [
    "# Filter out single-character & non-alphabet predictions\n",
    "# Print some meaningful results\n",
    "\n",
    "pprint([inner_item\n",
    "        for item in group_text\n",
    "        for inner_item in item\n",
    "        if len(inner_item) >= 2 and inner_item.isalpha()])"
   ]
  }
 ],
 "metadata": {
  "kernelspec": {
   "display_name": "Python 3.9.12 ('base')",
   "language": "python",
   "name": "python3"
  },
  "language_info": {
   "codemirror_mode": {
    "name": "ipython",
    "version": 3
   },
   "file_extension": ".py",
   "mimetype": "text/x-python",
   "name": "python",
   "nbconvert_exporter": "python",
   "pygments_lexer": "ipython3",
   "version": "3.9.12"
  },
  "orig_nbformat": 4,
  "vscode": {
   "interpreter": {
    "hash": "a4af91d33ec6268fa186d90437f8cb3cd71e802bf998707b61c648dfaadd642d"
   }
  }
 },
 "nbformat": 4,
 "nbformat_minor": 2
}
